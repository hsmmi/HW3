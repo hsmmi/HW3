{
 "cells": [
  {
   "attachments": {},
   "cell_type": "markdown",
   "metadata": {},
   "source": [
    "# <center>Homework 3 of Machine Learning </center>\n",
    "\n",
    "Subject: Pac-Man-Z\n",
    "\n",
    "Name: Hesam Mousavi\n",
    "\n",
    "Student number: 9931155\n",
    "\n",
    "<script type=\"text/x-mathjax-config\">\n",
    "MathJax.Hub.Config({\n",
    "tex2jax: {\n",
    "inlineMath: [['$','$'], ['\\\\(','\\\\)']],\n",
    "processEscapes: true},\n",
    "jax: [\"input/TeX\",\"input/MathML\",\"input/AsciiMath\",\"output/CommonHTML\"],\n",
    "extensions: [\"tex2jax.js\",\"mml2jax.js\",\"asciimath2jax.js\",\"MathMenu.js\",\"MathZoom.js\",\"AssistiveMML.js\", \"[Contrib]/a11y/accessibility-menu.js\"],\n",
    "TeX: {\n",
    "extensions: [\"AMSmath.js\",\"AMSsymbols.js\",\"noErrors.js\",\"noUndefined.js\"],\n",
    "equationNumbers: {\n",
    "autoNumber: \"AMS\"\n",
    "}\n",
    "}\n",
    "});\n",
    "</script>"
   ]
  },
  {
   "cell_type": "code",
   "execution_count": 1,
   "metadata": {},
   "outputs": [],
   "source": [
    "import numpy as np"
   ]
  },
  {
   "cell_type": "code",
   "execution_count": 2,
   "metadata": {},
   "outputs": [],
   "source": [
    "class PacManZ:\n",
    "    def __init__(self, height, width, n_zombie, n_obstcale) -> None:\n",
    "        self.height = height,\n",
    "        self.width = width,\n",
    "        self.board = np.full((height+2, width+2), 'B'),\n",
    "        self.n_zombie = n_zombie,\n",
    "        self.pos_zombie = np.zeros((n_zombie, 2)),\n",
    "        self.pos_agent = np.zeros((1, 2)),\n",
    "        self.pit = None,\n",
    "        self.exit_port = None,\n",
    "        self.n_obstcale = n_obstcale,\n",
    "        self.obstcales = np.zeros((n_obstcale, 2)),\n",
    "        pass\n",
    "    \n",
    "    def is_cell_blank(self, x, y) -> bool:\n",
    "        if self.board[x, y] == 'B':\n",
    "            return True\n",
    "        else:\n",
    "            return False\n",
    "\n",
    "    def random_blank_cell(self) -> tuple:\n",
    "        x = np.random.randint(1, self.height+2)\n",
    "        y = np.random.randint(1, self.width+2)\n",
    "        while self.is_cell_blank(x, y) != 'B':\n",
    "            x = np.random.randint(1, self.height+2)\n",
    "            y = np.random.randint(1, self.width+2)\n",
    "        return x, y \n",
    "\n",
    "    def generate_board(self) -> None:\n",
    "        # Create a border\n",
    "        self.board[0, :] = 'M',\n",
    "        self.board[-1, :] = 'M',\n",
    "        self.board[:, 0] = 'M',\n",
    "        self.board[:, -1] = 'M',\n",
    "\n",
    "        # Create a pit\n",
    "        # choose x, y randomly from 1 to height, 1 to width\n",
    "        x, y = self.random_blank_cell()\n",
    "        self.board[x, y] = 'P'\n",
    "        self.pit = (x, y)\n",
    "\n",
    "        # Create a exit port\n",
    "        # choose x, y randomly from 1 to height, 1 to width\n",
    "        x, y = self.random_blank_cell()\n",
    "        self.board[x, y] = 'E'\n",
    "        self.exit_port = (x, y)\n",
    "\n",
    "        # Create obstcales\n",
    "        for i in range(self.n_obstcale):\n",
    "            x, y = self.random_blank_cell()\n",
    "            self.board[x, y] = 'O'\n",
    "            self.obstcales[i, :] = x, y\n",
    "        \n",
    "        pass\n",
    "\n",
    "        def print_board(self) -> None:\n",
    "            print(self.board)\n",
    "            pass"
   ]
  },
  {
   "cell_type": "code",
   "execution_count": 1,
   "metadata": {},
   "outputs": [
    {
     "name": "stdout",
     "output_type": "stream",
     "text": [
      "pygame 2.3.0 (SDL 2.24.2, Python 3.11.0)\n",
      "Hello from the pygame community. https://www.pygame.org/contribute.html\n"
     ]
    },
    {
     "ename": "",
     "evalue": "",
     "output_type": "error",
     "traceback": [
      "\u001b[1;31mThe Kernel crashed while executing code in the the current cell or a previous cell. Please review the code in the cell(s) to identify a possible cause of the failure. Click <a href='https://aka.ms/vscodeJupyterKernelCrash'>here</a> for more info. View Jupyter <a href='command:jupyter.viewOutput'>log</a> for further details."
     ]
    }
   ],
   "source": [
    "import pygame\n",
    "\n",
    "# Initialize Pygame\n",
    "pygame.init()\n",
    "\n",
    "# Set up the display\n",
    "screen_width = 640\n",
    "screen_height = 480\n",
    "screen = pygame.display.set_mode((screen_width, screen_height))\n",
    "pygame.display.set_caption(\"Pac-Man Z\")"
   ]
  },
  {
   "cell_type": "code",
   "execution_count": null,
   "metadata": {},
   "outputs": [],
   "source": []
  },
  {
   "cell_type": "code",
   "execution_count": null,
   "metadata": {},
   "outputs": [],
   "source": []
  }
 ],
 "metadata": {
  "kernelspec": {
   "display_name": "uni23",
   "language": "python",
   "name": "python3"
  },
  "language_info": {
   "codemirror_mode": {
    "name": "ipython",
    "version": 3
   },
   "file_extension": ".py",
   "mimetype": "text/x-python",
   "name": "python",
   "nbconvert_exporter": "python",
   "pygments_lexer": "ipython3",
   "version": "3.11.0"
  },
  "orig_nbformat": 4
 },
 "nbformat": 4,
 "nbformat_minor": 2
}
